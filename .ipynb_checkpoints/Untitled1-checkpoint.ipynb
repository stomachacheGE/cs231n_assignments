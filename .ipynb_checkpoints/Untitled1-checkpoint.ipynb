{
 "cells": [
  {
   "cell_type": "code",
   "execution_count": 1,
   "metadata": {
    "collapsed": true
   },
   "outputs": [],
   "source": [
    "def bubble_sort(arry):\n",
    "    n = len(arry)\n",
    "    for i in range(n):\n",
    "        for j in range(1, n-i):\n",
    "            if arry[j-1] > arry[j]:\n",
    "                arry[j-1], arry[j] = arry[j], arry[j-1]\n",
    "    return arry"
   ]
  },
  {
   "cell_type": "code",
   "execution_count": 45,
   "metadata": {
    "collapsed": false
   },
   "outputs": [],
   "source": [
    "arry = [2,4, 5, 0, 88, 2]"
   ]
  },
  {
   "cell_type": "code",
   "execution_count": 4,
   "metadata": {
    "collapsed": false
   },
   "outputs": [
    {
     "data": {
      "text/plain": [
       "[0, 2, 2, 4, 5, 88]"
      ]
     },
     "execution_count": 4,
     "metadata": {},
     "output_type": "execute_result"
    }
   ],
   "source": [
    "bubble_sort(arry)"
   ]
  },
  {
   "cell_type": "code",
   "execution_count": 12,
   "metadata": {
    "collapsed": true
   },
   "outputs": [],
   "source": [
    "def selection_sort(arry):\n",
    "    n = len(arry)\n",
    "    for i in range(n):\n",
    "        min_idx = i\n",
    "        for j in range(i+1,n):\n",
    "            if arry[j] < arry[min_idx]:\n",
    "                min_idx = j\n",
    "        arry[min_idx], arry[i] = arry[i], arry[min_idx]\n",
    "    return arry\n"
   ]
  },
  {
   "cell_type": "code",
   "execution_count": 13,
   "metadata": {
    "collapsed": false
   },
   "outputs": [
    {
     "data": {
      "text/plain": [
       "[0, 2, 2, 4, 5, 88]"
      ]
     },
     "execution_count": 13,
     "metadata": {},
     "output_type": "execute_result"
    }
   ],
   "source": [
    "selection_sort(arry)"
   ]
  },
  {
   "cell_type": "code",
   "execution_count": 18,
   "metadata": {
    "collapsed": true
   },
   "outputs": [],
   "source": [
    "def insert_sort(arry):\n",
    "    n = len(arry)\n",
    "    for i in range(1,n):\n",
    "        #start from index 1, not 0\n",
    "        tmp = arry[i]\n",
    "        flag = i\n",
    "        for j in range(i-1, -1, -1):\n",
    "            if arry[j] > tmp:\n",
    "                flag = j\n",
    "                arry[j+1] = arry[j]\n",
    "            else:\n",
    "                break\n",
    "        arry[flag] = tmp\n",
    "    return arry"
   ]
  },
  {
   "cell_type": "code",
   "execution_count": 19,
   "metadata": {
    "collapsed": false
   },
   "outputs": [
    {
     "data": {
      "text/plain": [
       "[0, 2, 2, 4, 5, 88]"
      ]
     },
     "execution_count": 19,
     "metadata": {},
     "output_type": "execute_result"
    }
   ],
   "source": [
    "insert_sort(arry)"
   ]
  },
  {
   "cell_type": "code",
   "execution_count": 42,
   "metadata": {
    "collapsed": true
   },
   "outputs": [],
   "source": [
    "def quick_sort(arry):\n",
    "    return q_sort(arry, 0, len(arry)-1)\n",
    "\n",
    "def q_sort(arry, left, right):\n",
    "    if left >= right:\n",
    "        return arry\n",
    "    flag = arry[left]\n",
    "    lp = left\n",
    "    rp = right\n",
    "    while lp < rp:\n",
    "\n",
    "        while arry[rp] >= flag and lp < rp:\n",
    "            rp -= 1\n",
    "        while arry[lp] <= flag and lp < rp:\n",
    "            lp += 1\n",
    "        \n",
    "        print \"now change: %d, %d\" %(arry[lp], arry[rp])\n",
    "        arry[lp], arry[rp] = arry[rp], arry[lp]\n",
    "    arry[lp], arry[left] = arry[left], arry[lp]\n",
    "    print \"arry now is like: %s\" % arry\n",
    "    q_sort(arry, left, lp-1)\n",
    "    q_sort(arry, lp+1, right)\n",
    "    return arry\n",
    "    "
   ]
  },
  {
   "cell_type": "code",
   "execution_count": 36,
   "metadata": {
    "collapsed": true
   },
   "outputs": [],
   "source": [
    "import numpy as np"
   ]
  },
  {
   "cell_type": "code",
   "execution_count": 22,
   "metadata": {
    "collapsed": true
   },
   "outputs": [],
   "source": [
    "arry = np.random.randn(10)"
   ]
  },
  {
   "cell_type": "code",
   "execution_count": 23,
   "metadata": {
    "collapsed": false
   },
   "outputs": [
    {
     "data": {
      "text/plain": [
       "array([ 0.11333499,  0.03558758, -0.60944975, -0.2211237 ,  0.71668012,\n",
       "       -0.1140919 ,  0.5433588 , -1.43433797, -1.45320108,  0.40471427])"
      ]
     },
     "execution_count": 23,
     "metadata": {},
     "output_type": "execute_result"
    }
   ],
   "source": [
    "arry"
   ]
  },
  {
   "cell_type": "code",
   "execution_count": 46,
   "metadata": {
    "collapsed": false
   },
   "outputs": [
    {
     "name": "stdout",
     "output_type": "stream",
     "text": [
      "now change: 4, 0\n",
      "now change: 5, 5\n",
      "arry now is like: [5, 0, 2, 4, 88, 2]\n",
      "now change: 0, 0\n",
      "arry now is like: [0, 5, 2, 4, 88, 2]\n",
      "now change: 88, 2\n",
      "now change: 88, 88\n",
      "arry now is like: [0, 5, 2, 88, 2, 4]\n",
      "now change: 2, 2\n",
      "arry now is like: [0, 5, 2, 2, 88, 4]\n"
     ]
    },
    {
     "data": {
      "text/plain": [
       "[0, 5, 2, 2, 88, 4]"
      ]
     },
     "execution_count": 46,
     "metadata": {},
     "output_type": "execute_result"
    }
   ],
   "source": [
    "quick_sort(arry)"
   ]
  },
  {
   "cell_type": "code",
   "execution_count": 27,
   "metadata": {
    "collapsed": true
   },
   "outputs": [],
   "source": [
    "def quick_sort(ary):\n",
    "    return qsort(ary,0,len(ary)-1)\n",
    "\n",
    "def qsort(ary,left,right):\n",
    "    #快排函数，ary为待排序数组，left为待排序的左边界，right为右边界\n",
    "    if left >= right : return ary\n",
    "    key = ary[left]     #取最左边的为基准数\n",
    "    lp = left           #左指针\n",
    "    rp = right          #右指针\n",
    "    while lp < rp :\n",
    "        while ary[rp] >= key and lp < rp :\n",
    "            rp -= 1\n",
    "        while ary[lp] <= key and lp < rp :\n",
    "            lp += 1\n",
    "        ary[lp],ary[rp] = ary[rp],ary[lp]\n",
    "    ary[left],ary[lp] = ary[lp],ary[left]\n",
    "    qsort(ary,left,lp-1)\n",
    "    qsort(ary,rp+1,right)\n",
    "    return ary"
   ]
  },
  {
   "cell_type": "code",
   "execution_count": null,
   "metadata": {
    "collapsed": true
   },
   "outputs": [],
   "source": []
  }
 ],
 "metadata": {
  "kernelspec": {
   "display_name": "Python 2",
   "language": "python",
   "name": "python2"
  },
  "language_info": {
   "codemirror_mode": {
    "name": "ipython",
    "version": 2
   },
   "file_extension": ".py",
   "mimetype": "text/x-python",
   "name": "python",
   "nbconvert_exporter": "python",
   "pygments_lexer": "ipython2",
   "version": "2.7.11"
  }
 },
 "nbformat": 4,
 "nbformat_minor": 0
}
